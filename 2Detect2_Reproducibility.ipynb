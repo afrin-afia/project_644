{
 "cells": [
  {
   "cell_type": "code",
   "execution_count": 1,
   "id": "c491d25a-eeb4-4814-8418-1210ff14df03",
   "metadata": {},
   "outputs": [],
   "source": [
    "import numpy as np\n",
    "import pickle\n",
    "from utils.partition import weight_update_statistics\n",
    "from utils.flower_detection import mal_agents_update_statistics\n",
    "from sklearn.metrics import confusion_matrix, accuracy_score\n",
    "import matplotlib.pyplot as plt"
   ]
  },
  {
   "cell_type": "code",
   "execution_count": 2,
   "id": "bd93386f-00a8-4caf-8128-591e9ba17605",
   "metadata": {},
   "outputs": [
    {
     "name": "stdout",
     "output_type": "stream",
     "text": [
      "[0.   0.05 0.1  0.15 0.2  0.25 0.3  0.35 0.4  0.45 0.5  0.55 0.6  0.65\n",
      " 0.7  0.75 0.8  0.85 0.9  0.95 1.   1.2  1.4  1.6  1.8  2.   2.2 ]\n",
      "27\n"
     ]
    }
   ],
   "source": [
    "kappas = np.round(np.concatenate((np.arange(0, 1, 0.05), np.arange(1,2.2,0.2))),3)\n",
    "print(kappas)\n",
    "print(len(kappas))"
   ]
  },
  {
   "cell_type": "code",
   "execution_count": 3,
   "id": "b14628e4-656e-44dc-804e-c4c01cf268cf",
   "metadata": {},
   "outputs": [],
   "source": [
    "meta_metrics = {}\n",
    "\n",
    "for i in range(1,21):\n",
    "    with open(f'data/reproducibility_detection2/{i}_metrics.pkl', 'rb') as handle:\n",
    "        metrics = pickle.load(handle)\n",
    "    meta_metrics[i] = metrics\n",
    "    \n",
    "\n",
    "results = {}\n",
    "\n",
    "for kappa in kappas:\n",
    "    result_at_kappa = []\n",
    "    #print(kappa)\n",
    "    for i in meta_metrics.keys():\n",
    "        detected = mal_agents_update_statistics(meta_metrics[i], kappa=kappa)\n",
    "        result_at_kappa.append(detected)\n",
    "    results[str(np.round(kappa,2))] = result_at_kappa\n",
    "    \n",
    "with open('data/reproducibility_detection2_kappas.pkl', 'wb') as handle:\n",
    "    pickle.dump(results,handle,protocol=pickle.HIGHEST_PROTOCOL)"
   ]
  },
  {
   "cell_type": "code",
   "execution_count": 51,
   "id": "465b7a58-8dad-4407-9e38-b74a2bc3de9a",
   "metadata": {},
   "outputs": [
    {
     "data": {
      "text/plain": [
       "dict_keys(['2', '6', '7', '0', '3', '5', '8', '9', '4', '1'])"
      ]
     },
     "execution_count": 51,
     "metadata": {},
     "output_type": "execute_result"
    }
   ],
   "source": [
    "meta_metrics[1].keys()"
   ]
  },
  {
   "cell_type": "code",
   "execution_count": 12,
   "id": "4bc1928b-3357-44d8-bd0f-fc66cb0307c0",
   "metadata": {},
   "outputs": [],
   "source": [
    "with open('data/reproducibility_detection2_kappas.pkl', 'rb') as handle:\n",
    "    results = pickle.load(handle)"
   ]
  },
  {
   "cell_type": "code",
   "execution_count": 13,
   "id": "dd28f106-51fb-4a11-a5a1-61aff39b665e",
   "metadata": {},
   "outputs": [
    {
     "data": {
      "text/plain": [
       "dict_keys(['0.0', '0.05', '0.1', '0.15', '0.2', '0.25', '0.3', '0.35', '0.4', '0.45', '0.5', '0.55', '0.6', '0.65', '0.7', '0.75', '0.8', '0.85', '0.9', '0.95', '1.0', '1.2', '1.4', '1.6', '1.8', '2.0', '2.2'])"
      ]
     },
     "execution_count": 13,
     "metadata": {},
     "output_type": "execute_result"
    }
   ],
   "source": [
    "results.keys()"
   ]
  },
  {
   "cell_type": "code",
   "execution_count": 52,
   "id": "0f46630c-471a-4ec2-9d3b-82f9708b59f9",
   "metadata": {},
   "outputs": [
    {
     "data": {
      "text/plain": [
       "[array([0., 0., 0., 0., 0., 0., 0., 0., 1., 0.]),\n",
       " array([0., 0., 0., 0., 0., 0., 1., 0., 0., 0.]),\n",
       " array([0., 0., 0., 0., 0., 0., 0., 0., 1., 0.]),\n",
       " array([0., 0., 0., 0., 0., 0., 0., 0., 0., 1.]),\n",
       " array([0., 0., 0., 0., 0., 0., 1., 0., 0., 0.]),\n",
       " array([0., 0., 0., 0., 0., 0., 1., 0., 0., 0.]),\n",
       " array([0., 0., 1., 0., 0., 0., 0., 0., 0., 0.]),\n",
       " array([0., 0., 0., 1., 0., 0., 0., 0., 0., 0.]),\n",
       " array([0., 0., 0., 0., 0., 1., 0., 0., 0., 0.]),\n",
       " array([0., 0., 0., 0., 0., 0., 0., 1., 0., 0.]),\n",
       " array([0., 0., 0., 0., 0., 0., 1., 0., 0., 0.]),\n",
       " array([0., 0., 1., 0., 0., 0., 0., 0., 0., 0.]),\n",
       " array([0., 0., 0., 0., 0., 0., 0., 0., 0., 1.]),\n",
       " array([0., 0., 0., 0., 0., 0., 0., 0., 0., 1.]),\n",
       " array([0., 0., 1., 0., 0., 0., 0., 0., 0., 0.]),\n",
       " array([0., 0., 0., 0., 0., 0., 0., 0., 1., 0.]),\n",
       " array([0., 0., 1., 0., 0., 0., 0., 0., 0., 0.]),\n",
       " array([0., 1., 0., 0., 0., 0., 0., 0., 0., 0.]),\n",
       " array([0., 0., 0., 1., 0., 0., 0., 0., 0., 0.]),\n",
       " array([0., 0., 0., 1., 0., 0., 0., 0., 0., 0.])]"
      ]
     },
     "execution_count": 52,
     "metadata": {},
     "output_type": "execute_result"
    }
   ],
   "source": [
    "#results\n",
    "results['2.0']"
   ]
  },
  {
   "cell_type": "code",
   "execution_count": 15,
   "id": "3b834d6b-2b44-47b8-b644-e8913193e245",
   "metadata": {},
   "outputs": [],
   "source": [
    "Y_true = [0, 0, 0, 1, 0, 0, 0, 0 ,0 ,0] * 20\n",
    "results_uni = {}\n",
    "for key in results.keys():\n",
    "    results_uni[key] = np.concatenate(results[key])"
   ]
  },
  {
   "cell_type": "code",
   "execution_count": 56,
   "id": "0040a098-c632-4fd6-aa28-9928ee101516",
   "metadata": {},
   "outputs": [
    {
     "data": {
      "text/plain": [
       "200"
      ]
     },
     "execution_count": 56,
     "metadata": {},
     "output_type": "execute_result"
    }
   ],
   "source": [
    "len(Y_true)"
   ]
  },
  {
   "cell_type": "code",
   "execution_count": 54,
   "id": "012e7830-67ca-4c45-8be2-17058ddadfea",
   "metadata": {},
   "outputs": [
    {
     "data": {
      "text/plain": [
       "array([0., 0., 0., 0., 0., 0., 0., 0., 1., 0., 0., 0., 0., 0., 0., 0., 1.,\n",
       "       0., 0., 0., 0., 0., 0., 0., 0., 0., 0., 0., 1., 0., 0., 0., 0., 0.,\n",
       "       0., 0., 0., 0., 0., 1., 0., 0., 0., 0., 0., 0., 1., 0., 0., 0., 0.,\n",
       "       0., 0., 0., 0., 0., 1., 0., 0., 0., 0., 0., 1., 0., 0., 0., 0., 0.,\n",
       "       0., 0., 0., 0., 0., 1., 0., 0., 0., 0., 0., 0., 0., 0., 0., 0., 0.,\n",
       "       1., 0., 0., 0., 0., 0., 0., 0., 0., 0., 0., 0., 1., 0., 0., 0., 0.,\n",
       "       0., 0., 0., 0., 1., 0., 0., 0., 0., 0., 1., 0., 0., 0., 0., 0., 0.,\n",
       "       0., 0., 0., 0., 0., 0., 0., 0., 0., 0., 1., 0., 0., 0., 0., 0., 0.,\n",
       "       0., 0., 0., 1., 0., 0., 1., 0., 0., 0., 0., 0., 0., 0., 0., 0., 0.,\n",
       "       0., 0., 0., 0., 0., 1., 0., 0., 0., 1., 0., 0., 0., 0., 0., 0., 0.,\n",
       "       0., 1., 0., 0., 0., 0., 0., 0., 0., 0., 0., 0., 0., 1., 0., 0., 0.,\n",
       "       0., 0., 0., 0., 0., 0., 1., 0., 0., 0., 0., 0., 0.])"
      ]
     },
     "execution_count": 54,
     "metadata": {},
     "output_type": "execute_result"
    }
   ],
   "source": [
    "results_uni['2.0']"
   ]
  },
  {
   "cell_type": "code",
   "execution_count": 16,
   "id": "d2be512e-115c-47f8-92f1-10c9ac4c0ec2",
   "metadata": {},
   "outputs": [
    {
     "name": "stdout",
     "output_type": "stream",
     "text": [
      "0.2\n",
      "[[ 47 133]\n",
      " [  2  18]]\n",
      "0.6\n",
      "[[151  29]\n",
      " [ 13   7]]\n"
     ]
    }
   ],
   "source": [
    "l_accu = []\n",
    "l_TPR = []\n",
    "l_FPR = []\n",
    "\n",
    "for key in results_uni.keys():\n",
    "    accu = accuracy_score(Y_true, results_uni[key])\n",
    "    cmtx = confusion_matrix(Y_true, results_uni[key])\n",
    "    TN = cmtx[0,0]\n",
    "    FN = cmtx[1,0]\n",
    "    TP = cmtx[1,1]\n",
    "    FP = cmtx[0,1]\n",
    "    TPR = TP / (TP+FN)\n",
    "    FPR = FP / (FP+TN)\n",
    "    \n",
    "    if key in ['0.2', '0.6']:\n",
    "        print(key)\n",
    "        print(cmtx)\n",
    "    l_accu.append(accu)\n",
    "    l_TPR.append(TPR)\n",
    "    l_FPR.append(FPR) \n",
    "    \n",
    "    "
   ]
  },
  {
   "cell_type": "code",
   "execution_count": 17,
   "id": "99a32529-b320-4aaf-a227-06bb16f19cbe",
   "metadata": {},
   "outputs": [
    {
     "data": {
      "text/plain": [
       "[<matplotlib.lines.Line2D at 0x7efe43555850>]"
      ]
     },
     "execution_count": 17,
     "metadata": {},
     "output_type": "execute_result"
    },
    {
     "data": {
      "image/png": "[encoded data removed]",
      "text/plain": [
       "<Figure size 576x432 with 1 Axes>"
      ]
     },
     "metadata": {
      "needs_background": "light"
     },
     "output_type": "display_data"
    }
   ],
   "source": [
    "fig1 = plt.figure(figsize=(8,6))\n",
    "ax1 = fig1.add_subplot(1,1,1)\n",
    "\n",
    "ax1.plot(kappas, l_accu)"
   ]
  },
  {
   "cell_type": "code",
   "execution_count": 18,
   "id": "45f086f5-fb5a-4796-806f-f6e0f8bd7deb",
   "metadata": {},
   "outputs": [
    {
     "data": {
      "text/plain": [
       "Text(0, 0.5, 'True Positive Rate')"
      ]
     },
     "execution_count": 18,
     "metadata": {},
     "output_type": "execute_result"
    },
    {
     "data": {
      "image/png": "[encoded data removed]",
      "text/plain": [
       "<Figure size 360x360 with 1 Axes>"
      ]
     },
     "metadata": {
      "needs_background": "light"
     },
     "output_type": "display_data"
    }
   ],
   "source": [
    "fig1 = plt.figure(figsize=(5,5))\n",
    "ax1 = fig1.add_subplot(1,1,1)\n",
    "ax1.plot(l_FPR, l_TPR)\n",
    "ax1.plot([0,1], [0,1], color = 'r', ls='--')\n",
    "for i, (FPR, TPR) in enumerate(zip(l_FPR, l_TPR)):\n",
    "    if (i % 2 == 0 or i == 5) and (i != 10):\n",
    "        ax1.text(FPR, TPR+0.01, kappas[i], horizontalalignment='center', verticalalignment='bottom')\n",
    "    if i > 15:\n",
    "        break\n",
    "ax1.set_xlabel(\"False Positive Rate\", fontsize = 14)\n",
    "ax1.set_ylabel(\"True Positive Rate\", fontsize = 14)"
   ]
  },
  {
   "cell_type": "markdown",
   "id": "46623abf-3d4b-49b7-a0ee-8707de8cb0a1",
   "metadata": {
    "tags": []
   },
   "source": [
    "## Sanity check"
   ]
  },
  {
   "cell_type": "code",
   "execution_count": 49,
   "id": "f29a6f6a-6390-46c4-aa18-44f3acc8b190",
   "metadata": {},
   "outputs": [
    {
     "data": {
      "text/plain": [
       "array([0., 1., 0., 0., 0.])"
      ]
     },
     "execution_count": 49,
     "metadata": {},
     "output_type": "execute_result"
    }
   ],
   "source": [
    "test_metrics = {}\n",
    "test_metrics[0] = np.random.rand(2000,2)\n",
    "test_metrics[1] = np.random.rand(2000,2)*(4)\n",
    "test_metrics[2] = np.random.rand(2000,2)\n",
    "test_metrics[3] = np.random.rand(2000,2)\n",
    "test_metrics[4] = np.random.rand(2000,2)\n",
    "\n",
    "mal_agents_update_statistics(test_metrics, kappa=1, fix=True)"
   ]
  },
  {
   "cell_type": "code",
   "execution_count": null,
   "id": "fc8f5c84-cc7b-49f4-8431-0b68a382559c",
   "metadata": {},
   "outputs": [],
   "source": []
  }
 ],
 "metadata": {
  "kernelspec": {
   "display_name": "Python 3 (ipykernel)",
   "language": "python",
   "name": "python3"
  },
  "language_info": {
   "codemirror_mode": {
    "name": "ipython",
    "version": 3
   },
   "file_extension": ".py",
   "mimetype": "text/x-python",
   "name": "python",
   "nbconvert_exporter": "python",
   "pygments_lexer": "ipython3",
   "version": "3.8.10"
  }
 },
 "nbformat": 4,
 "nbformat_minor": 5
}
