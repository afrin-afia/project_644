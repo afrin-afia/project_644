{
 "cells": [
  {
   "cell_type": "markdown",
   "id": "b7d27e0f-a482-4e93-ac77-8b7baf4f8067",
   "metadata": {},
   "source": [
    "# 3. Detection algorithm: Weight Statistics\n",
    "... Implementation in numpy\n",
    "\n",
    "Author: Javier Sales-Ortiz\n",
    "\n",
    "Important errata: Examples must have 4 or more agents. Otherwise it doesn't work\n",
    "\n",
    "Date: Nov, 2022\n",
    "\n",
    "CMPUT 644 Final project"
   ]
  },
  {
   "cell_type": "code",
   "execution_count": 3,
   "id": "3623b500-19bd-44dc-8618-5c6c7c5dc500",
   "metadata": {},
   "outputs": [],
   "source": [
    "import numpy as np\n",
    "from partition import *\n",
    "import matplotlib.pyplot as plt\n",
    "np.set_printoptions(precision=4)"
   ]
  },
  {
   "cell_type": "markdown",
   "id": "3f3375b9",
   "metadata": {},
   "source": [
    "## Questions\n",
    "\n",
    "* Are the distances calculated with biases or only the weights? Both, treat all parameters the same\n",
    "* Do it on the weights, not on the updates. But at the end of the dat it can be itnerchangeable"
   ]
  },
  {
   "cell_type": "code",
   "execution_count": 24,
   "id": "5887b3bd",
   "metadata": {},
   "outputs": [
    {
     "name": "stdout",
     "output_type": "stream",
     "text": [
      "(2,) (2,)\n"
     ]
    }
   ],
   "source": [
    "#w1 = np.random.normal(loc =(0,0), scale = 1.0, size=(30, 2)).T\n",
    "#w2 = np.random.normal(loc =(2,2), scale = 1.0, size=(30, 2)).T\n",
    "#w3 = np.random.normal(loc =(-2,2), scale = 1.0, size=(30, 2)).T\n",
    "#w4 = np.random.normal(loc =(10,10), scale = 1.0, size=(30, 2)).T\n",
    "w1 = np.array([0.5,0.5])\n",
    "w2 = np.array([1,0.6])\n",
    "w3 = np.array([0.8,1.2])\n",
    "#w4 = np.array([0.2,0.2])\n",
    "#w5 = np.array([0.2,0.4])\n",
    "#w6 = np.array([0.3,1])\n",
    "#w7 = np.array([1,0.3])\n",
    "#w8 = np.array([0.4,0.2])\n",
    "#w9 = np.array([1,0.5])\n",
    "w4 = np.array([4,4])\n",
    "WL = [w1, w2, w3, w4]#, w5, w6, w7, w8, w9, w10]\n",
    "print(w1.shape, w2.shape)\n"
   ]
  },
  {
   "cell_type": "code",
   "execution_count": 25,
   "id": "caa13b43",
   "metadata": {},
   "outputs": [
    {
     "data": {
      "text/plain": [
       "Text(0, 0.5, 'x2')"
      ]
     },
     "execution_count": 25,
     "metadata": {},
     "output_type": "execute_result"
    },
    {
     "data": {
      "image/png": "[encoded data removed]",
      "text/plain": [
       "<Figure size 432x360 with 1 Axes>"
      ]
     },
     "metadata": {
      "needs_background": "light"
     },
     "output_type": "display_data"
    }
   ],
   "source": [
    "fig1 = plt.figure(figsize=(6,5))\n",
    "ax1 = fig1.add_subplot(1,1,1)\n",
    "\n",
    "for w in WL:\n",
    "    ax1.scatter(w[0], w[1])\n",
    "    \n",
    "ax1.set_xlabel('x1')\n",
    "ax1.set_ylabel('x2')"
   ]
  },
  {
   "cell_type": "markdown",
   "id": "866055b9",
   "metadata": {},
   "source": [
    "1. For the malicious agent we compute:\n",
    "\n",
    "$R_m = [\\min_{i \\in [k] \\backslash m} d(\\mathbb{\\delta}_m^t, \\mathbb{\\delta}_i^t), \\max_{i \\in [k] \\backslash m} d(\\mathbb{\\delta}_m^t, \\mathbb{\\delta}_i^t)]$\n",
    "\n",
    "2. Define values:\n",
    "\n",
    "$R_{\\min,[k] \\backslash m}^l$ The minimum lower bound of the range for all other agents\n",
    "\n",
    "$R_{\\max,[k] \\backslash m}^u$ The maximum upper bound of the range for all other agents\n",
    "\n",
    "3. For the malicious agent not to be flagged, we need:\n",
    "\n",
    "$\\max \\{|R_m^u-R_{min, [k] \\backslash m}^l|, |R_{m}^l - R_{max, [k]\\backslash m}^u| \\} < \\kappa_t$\n",
    "\n",
    "I have observed that 3. doesn't work, so my proposed fix is:\n",
    "\n",
    "$\\max \\{|R_m^l-R_{min, [k] \\backslash m}^l|, |R_{m}^u - R_{max, [k]\\backslash m}^u| \\} < \\kappa_t$"
   ]
  },
  {
   "cell_type": "code",
   "execution_count": 9,
   "id": "4ab5a46c",
   "metadata": {},
   "outputs": [
    {
     "name": "stdout",
     "output_type": "stream",
     "text": [
      "[[   nan 0.7071 0.5831 4.9497]\n",
      " [0.7071    nan 0.8    4.2426]\n",
      " [0.5831 0.8       nan 4.8415]\n",
      " [4.9497 4.2426 4.8415    nan]]\n",
      "Agent 0: Rm [0.58, 4.95], R_k\\m [0.80, 4.84], [|R(l,m)-R(l,k\\m)|, |R(u,m)-R(u,k\\m)|] = 0.22, 0.11; max 0.22\n",
      "Agent 1: Rm [0.71, 4.24], R_k\\m [0.58, 4.95], [|R(l,m)-R(l,k\\m)|, |R(u,m)-R(u,k\\m)|] = 0.12, 0.71; max 0.71\n",
      "Agent 2: Rm [0.58, 4.84], R_k\\m [0.71, 4.95], [|R(l,m)-R(l,k\\m)|, |R(u,m)-R(u,k\\m)|] = 0.12, 0.11; max 0.12\n",
      "Agent 3: Rm [4.24, 4.95], R_k\\m [0.58, 0.80], [|R(l,m)-R(l,k\\m)|, |R(u,m)-R(u,k\\m)|] = 3.66, 4.15; max 4.15\n"
     ]
    },
    {
     "data": {
      "text/plain": [
       "array([0., 0., 0., 1.])"
      ]
     },
     "execution_count": 9,
     "metadata": {},
     "output_type": "execute_result"
    }
   ],
   "source": [
    "weight_update_statistics(WL, fix= True, debug=True)"
   ]
  },
  {
   "cell_type": "code",
   "execution_count": null,
   "id": "2513cdc5",
   "metadata": {},
   "outputs": [],
   "source": []
  },
  {
   "cell_type": "code",
   "execution_count": null,
   "id": "9241a522",
   "metadata": {},
   "outputs": [],
   "source": []
  },
  {
   "cell_type": "code",
   "execution_count": null,
   "id": "97afeb19-4711-435e-80c4-fa518f2cc759",
   "metadata": {},
   "outputs": [],
   "source": []
  }
 ],
 "metadata": {
  "kernelspec": {
   "display_name": "env_marlvr",
   "language": "python",
   "name": "env_marlvr"
  },
  "language_info": {
   "codemirror_mode": {
    "name": "ipython",
    "version": 3
   },
   "file_extension": ".py",
   "mimetype": "text/x-python",
   "name": "python",
   "nbconvert_exporter": "python",
   "pygments_lexer": "ipython3",
   "version": "3.8.10"
  }
 },
 "nbformat": 4,
 "nbformat_minor": 5
}
