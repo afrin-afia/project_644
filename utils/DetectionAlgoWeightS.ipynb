{
 "cells": [
  {
   "cell_type": "markdown",
   "id": "b7d27e0f-a482-4e93-ac77-8b7baf4f8067",
   "metadata": {},
   "source": [
    "# 3. Detection algorithm: Weight Statistics\n",
    "... Implementation in numpy\n",
    "\n",
    "Author: Javier Sales-Ortiz\n",
    "\n",
    "Important errata: Examples must have 4 or more agents. Otherwise it doesn't work\n",
    "\n",
    "Date: Nov, 2022\n",
    "\n",
    "CMPUT 644 Final project"
   ]
  },
  {
   "cell_type": "code",
   "execution_count": 1,
   "id": "3623b500-19bd-44dc-8618-5c6c7c5dc500",
   "metadata": {},
   "outputs": [],
   "source": [
    "import numpy as np\n",
    "from partition import *\n",
    "import matplotlib.pyplot as plt\n",
    "np.set_printoptions(precision=4)"
   ]
  },
  {
   "cell_type": "markdown",
   "id": "3f3375b9",
   "metadata": {},
   "source": [
    "## Questions\n",
    "\n",
    "* Are the distances calculated with biases or only the weights? Both, treat all parameters the same\n",
    "* Do it on the weights, not on the updates. But at the end of the dat it can be itnerchangeable"
   ]
  },
  {
   "cell_type": "code",
   "execution_count": 30,
   "id": "5887b3bd",
   "metadata": {},
   "outputs": [
    {
     "name": "stdout",
     "output_type": "stream",
     "text": [
      "(2,) (2,)\n"
     ]
    }
   ],
   "source": [
    "#w1 = np.random.normal(loc =(0,0), scale = 1.0, size=(30, 2)).T\n",
    "#w2 = np.random.normal(loc =(2,2), scale = 1.0, size=(30, 2)).T\n",
    "#w3 = np.random.normal(loc =(-2,2), scale = 1.0, size=(30, 2)).T\n",
    "#w4 = np.random.normal(loc =(10,10), scale = 1.0, size=(30, 2)).T\n",
    "w1 = np.array([0.5,0.5])\n",
    "w2 = np.array([1,1])\n",
    "w3 = np.array([0.2,1])\n",
    "w4 = np.array([0.2,0.2])\n",
    "w5 = np.array([0.2,0.4])\n",
    "w6 = np.array([0.3,1])\n",
    "w7 = np.array([1,0.3])\n",
    "w8 = np.array([0.4,0.2])\n",
    "w9 = np.array([1,0.5])\n",
    "w10 = np.array([-4,4])\n",
    "WL = [w1, w2, w3, w4, w5, w6, w7, w8, w9, w10]\n",
    "print(w1.shape, w2.shape)\n"
   ]
  },
  {
   "cell_type": "code",
   "execution_count": 31,
   "id": "caa13b43",
   "metadata": {},
   "outputs": [
    {
     "data": {
      "image/png": "[encoded data removed]",
      "text/plain": [
       "<Figure size 720x576 with 1 Axes>"
      ]
     },
     "metadata": {
      "needs_background": "light"
     },
     "output_type": "display_data"
    }
   ],
   "source": [
    "fig1 = plt.figure(figsize=(10,8))\n",
    "ax1 = fig1.add_subplot(1,1,1)\n",
    "\n",
    "for w in WL:\n",
    "    ax1.scatter(w[0], w[1])"
   ]
  },
  {
   "cell_type": "markdown",
   "id": "866055b9",
   "metadata": {},
   "source": [
    "1. For the malicious agent we compute:\n",
    "\n",
    "$R_m = [\\min_{i \\in [k] \\backslash m} d(\\mathbb{\\delta}_m^t, \\mathbb{\\delta}_i^t), \\max_{i \\in [k] \\backslash m} d(\\mathbb{\\delta}_m^t, \\mathbb{\\delta}_i^t)]$\n",
    "\n",
    "2. Define values:\n",
    "\n",
    "$R_{\\min,[k] \\backslash m}^l$ The minimum lower bound of the range for all other agents\n",
    "\n",
    "$R_{\\max,[k] \\backslash m}^u$ The maximum upper bound of the range for all other agents\n",
    "\n",
    "3. For the malicious agent not to be flagged, we need:\n",
    "\n",
    "$\\max \\{|R_m^u-R_{min, [k] \\backslash m}^l|, |R_{m}^l - R_{max, [k]\\backslash m}^u| \\} < \\kappa_t$\n",
    "\n",
    "I have observed that 3. doesn't work, so my proposed fix is:\n",
    "\n",
    "$\\max \\{|R_m^l-R_{min, [k] \\backslash m}^l|, |R_{m}^u - R_{max, [k]\\backslash m}^u| \\} < \\kappa_t$"
   ]
  },
  {
   "cell_type": "code",
   "execution_count": 34,
   "id": "4ab5a46c",
   "metadata": {},
   "outputs": [
    {
     "name": "stdout",
     "output_type": "stream",
     "text": [
      "[[   nan 0.7071 0.5831 0.4243 0.3162 0.5385 0.5385 0.3162 0.5    5.7009]\n",
      " [0.7071    nan 0.8    1.1314 1.     0.7    0.7    1.     0.5    5.831 ]\n",
      " [0.5831 0.8       nan 0.8    0.6    0.1    1.063  0.8246 0.9434 5.1614]\n",
      " [0.4243 1.1314 0.8       nan 0.2    0.8062 0.8062 0.2    0.8544 5.6639]\n",
      " [0.3162 1.     0.6    0.2       nan 0.6083 0.8062 0.2828 0.8062 5.5317]\n",
      " [0.5385 0.7    0.1    0.8062 0.6083    nan 0.9899 0.8062 0.8602 5.2431]\n",
      " [0.5385 0.7    1.063  0.8062 0.8062 0.9899    nan 0.6083 0.2    6.2201]\n",
      " [0.3162 1.     0.8246 0.2    0.2828 0.8062 0.6083    nan 0.6708 5.8138]\n",
      " [0.5    0.5    0.9434 0.8544 0.8062 0.8602 0.2    0.6708    nan 6.1033]\n",
      " [5.7009 5.831  5.1614 5.6639 5.5317 5.2431 6.2201 5.8138 6.1033    nan]]\n",
      "Agent 0: Rm [0.32, 5.70], R_k\\m [0.10, 6.22], [|R(l,m)-R(l,k\\m)|, |R(u,m)-R(u,k\\m)|] = 0.22, 0.52\n",
      "Agent 1: Rm [0.50, 5.83], R_k\\m [0.10, 6.22], [|R(l,m)-R(l,k\\m)|, |R(u,m)-R(u,k\\m)|] = 0.40, 0.39\n",
      "Agent 2: Rm [0.10, 5.16], R_k\\m [0.20, 6.22], [|R(l,m)-R(l,k\\m)|, |R(u,m)-R(u,k\\m)|] = 0.10, 1.06\n",
      "Agent 3: Rm [0.20, 5.66], R_k\\m [0.10, 6.22], [|R(l,m)-R(l,k\\m)|, |R(u,m)-R(u,k\\m)|] = 0.10, 0.56\n",
      "Agent 4: Rm [0.20, 5.53], R_k\\m [0.10, 6.22], [|R(l,m)-R(l,k\\m)|, |R(u,m)-R(u,k\\m)|] = 0.10, 0.69\n",
      "Agent 5: Rm [0.10, 5.24], R_k\\m [0.20, 6.22], [|R(l,m)-R(l,k\\m)|, |R(u,m)-R(u,k\\m)|] = 0.10, 0.98\n",
      "Agent 6: Rm [0.20, 6.22], R_k\\m [0.10, 6.10], [|R(l,m)-R(l,k\\m)|, |R(u,m)-R(u,k\\m)|] = 0.10, 0.12\n",
      "Agent 7: Rm [0.20, 5.81], R_k\\m [0.10, 6.22], [|R(l,m)-R(l,k\\m)|, |R(u,m)-R(u,k\\m)|] = 0.10, 0.41\n",
      "Agent 8: Rm [0.20, 6.10], R_k\\m [0.10, 6.22], [|R(l,m)-R(l,k\\m)|, |R(u,m)-R(u,k\\m)|] = 0.10, 0.12\n",
      "Agent 9: Rm [5.16, 6.22], R_k\\m [0.10, 1.13], [|R(l,m)-R(l,k\\m)|, |R(u,m)-R(u,k\\m)|] = 5.06, 5.09\n"
     ]
    },
    {
     "data": {
      "text/plain": [
       "array([0., 0., 0., 0., 0., 0., 0., 0., 0., 1.])"
      ]
     },
     "execution_count": 34,
     "metadata": {},
     "output_type": "execute_result"
    }
   ],
   "source": [
    "weight_update_statistics(WL, fix= True, debug=True)"
   ]
  },
  {
   "cell_type": "code",
   "execution_count": null,
   "id": "2513cdc5",
   "metadata": {},
   "outputs": [],
   "source": []
  },
  {
   "cell_type": "code",
   "execution_count": null,
   "id": "9241a522",
   "metadata": {},
   "outputs": [],
   "source": []
  },
  {
   "cell_type": "code",
   "execution_count": null,
   "id": "97afeb19-4711-435e-80c4-fa518f2cc759",
   "metadata": {},
   "outputs": [],
   "source": []
  }
 ],
 "metadata": {
  "kernelspec": {
   "display_name": "env_marlvr",
   "language": "python",
   "name": "env_marlvr"
  },
  "language_info": {
   "codemirror_mode": {
    "name": "ipython",
    "version": 3
   },
   "file_extension": ".py",
   "mimetype": "text/x-python",
   "name": "python",
   "nbconvert_exporter": "python",
   "pygments_lexer": "ipython3",
   "version": "3.8.10"
  }
 },
 "nbformat": 4,
 "nbformat_minor": 5
}
