{
 "cells": [
  {
   "cell_type": "markdown",
   "id": "b7d27e0f-a482-4e93-ac77-8b7baf4f8067",
   "metadata": {},
   "source": [
    "# 3. Detection algorithm: Weight Statistics\n",
    "... Implementation in numpy\n",
    "\n",
    "Author: Javier Sales-Ortiz\n",
    "\n",
    "Date: Nov, 2022\n",
    "\n",
    "CMPUT 644 Final project"
   ]
  },
  {
   "cell_type": "code",
   "execution_count": 1,
   "id": "3623b500-19bd-44dc-8618-5c6c7c5dc500",
   "metadata": {},
   "outputs": [],
   "source": [
    "import numpy as np\n",
    "import matplotlib.pyplot as plt\n",
    "np.set_printoptions(precision=4)"
   ]
  },
  {
   "cell_type": "markdown",
   "id": "3f3375b9",
   "metadata": {},
   "source": [
    "## Questions\n",
    "\n",
    "* Are the distances calculated with biases or only the weights? Both, treat all parameters the same\n",
    "* Do it on the weights, not on the updates. But at the end of the dat it can be itnerchangeable"
   ]
  },
  {
   "cell_type": "code",
   "execution_count": 2,
   "id": "5887b3bd",
   "metadata": {},
   "outputs": [
    {
     "name": "stdout",
     "output_type": "stream",
     "text": [
      "(2,) (2,)\n"
     ]
    }
   ],
   "source": [
    "#w1 = np.random.normal(loc =(0,0), scale = 1.0, size=(30, 2)).T\n",
    "#w2 = np.random.normal(loc =(2,2), scale = 1.0, size=(30, 2)).T\n",
    "#w3 = np.random.normal(loc =(-2,2), scale = 1.0, size=(30, 2)).T\n",
    "#w4 = np.random.normal(loc =(10,10), scale = 1.0, size=(30, 2)).T\n",
    "w1 = np.array([0,0])\n",
    "w2 = np.array([0.5,0.5])\n",
    "w3 = np.array([1,1])\n",
    "w4 = np.array([4,4])\n",
    "WL = [w1, w2, w3, w4]\n",
    "print(w1.shape, w2.shape)\n"
   ]
  },
  {
   "cell_type": "code",
   "execution_count": 3,
   "id": "caa13b43",
   "metadata": {},
   "outputs": [
    {
     "data": {
      "image/png": "[encoded data removed]",
      "text/plain": [
       "<Figure size 720x576 with 1 Axes>"
      ]
     },
     "metadata": {
      "needs_background": "light"
     },
     "output_type": "display_data"
    }
   ],
   "source": [
    "fig1 = plt.figure(figsize=(10,8))\n",
    "ax1 = fig1.add_subplot(1,1,1)\n",
    "\n",
    "for w in WL:\n",
    "    ax1.scatter(w[0], w[1])"
   ]
  },
  {
   "cell_type": "markdown",
   "id": "866055b9",
   "metadata": {},
   "source": [
    "1. For the malicious agent we compute:\n",
    "\n",
    "$R_m = [\\min_{i \\in [k] \\backslash m} d(\\mathbb{\\delta}_m^t, \\mathbb{\\delta}_i^t), \\max_{i \\in [k] \\backslash m} d(\\mathbb{\\delta}_m^t, \\mathbb{\\delta}_i^t)]$\n",
    "\n",
    "2. Define values:\n",
    "\n",
    "$R_{\\min,[k] \\backslash m}^l$ The minimum lower bound of the range for all other agents\n",
    "\n",
    "$R_{\\max,[k] \\backslash m}^u$ The maximum upper bound of the range for all other agents\n",
    "\n",
    "3. For the malicious agent not to be flagged, we need:\n",
    "\n",
    "$\\max \\{|R_m^u-R_{min, [k] \\backslash m}^l|, |R_{m}^l - R_{max, [k]\\backslash m}^u| \\} < \\kappa_t$\n",
    "\n",
    "I have observed that 3. doesn't work, so my proposed fix is:\n",
    "\n",
    "$\\max \\{|R_m^l-R_{min, [k] \\backslash m}^l|, |R_{m}^u - R_{max, [k]\\backslash m}^u| \\} < \\kappa_t$"
   ]
  },
  {
   "cell_type": "code",
   "execution_count": 4,
   "id": "91e1b77d",
   "metadata": {},
   "outputs": [],
   "source": [
    "def weight_update_statistics(WL, kappa=2, fix = False):\n",
    "    n = len(WL)\n",
    "    dist_matrix = np.zeros((n,n))\n",
    "\n",
    "    for i in range(n):\n",
    "        for j in range(n):\n",
    "            if i == j:\n",
    "                dist_matrix[i,j] = np.NaN\n",
    "            else:\n",
    "                dist_matrix[i,j] = dist_matrix[j,i] = np.linalg.norm(WL[i] - WL[j])\n",
    "    \n",
    "\n",
    "    #dist_matrix = np.array([[np.nan, 0.5, 1.5, 6.0], \n",
    "    #                        [0.5, np.nan, 1.0, 5.0],\n",
    "    #                        [1.5, 1.0, np.nan, 2.0],\n",
    "    #                        [6.0, 5.0, 2.0, np.nan]])\n",
    "    print(dist_matrix)\n",
    "    \n",
    "    detect_arr = np.ones(n)\n",
    "    for m in range(n):\n",
    "        my_min = np.nanmin(dist_matrix[m,:])\n",
    "        my_max = np.nanmax(dist_matrix[m,:])\n",
    "        they_arr = np.delete(np.delete(dist_matrix, m, 0), m, 1).flatten()\n",
    "        their_min = np.nanmin(they_arr)\n",
    "        their_max = np.nanmax(they_arr)\n",
    "        #if fix:\n",
    "        #    print(f\"Agent {m}: Rm [{my_min:.2f}, {my_max:.2f}], R_k\\m [{their_min:.2f}, {their_max:.2f}] [|R(l,m)-R(l,k\\\\m)|, |R(u,m)-R(u,k\\\\m)|] {abs(my_min-their_min):.2f}, {abs(my_max-their_max):.2f}\")\n",
    "        #    R_max = max(abs(my_min - their_min), abs(my_max-their_max))\n",
    "        #else:\n",
    "        print(f\"Agent {m}: Rm [{my_min:.2f}, {my_max:.2f}], R_k\\m [{their_min:.2f}, {their_max:.2f}] [|R(l,m)-R(u,k\\\\m)|, |R(u,m)-R(l,k\\\\m)|] {abs(my_min-their_max):.2f}, {abs(my_max-their_min):.2f}\")\n",
    "        R_max = max(abs(my_max - their_min), abs(my_min-their_max))\n",
    "        if R_max < kappa:\n",
    "            detect_arr[m] = 0\n",
    "    return detect_arr\n",
    "\n",
    "\n",
    "    \n",
    "    "
   ]
  },
  {
   "cell_type": "code",
   "execution_count": 5,
   "id": "4ab5a46c",
   "metadata": {},
   "outputs": [
    {
     "name": "stdout",
     "output_type": "stream",
     "text": [
      "[[   nan 0.7071 1.4142 5.6569]\n",
      " [0.7071    nan 0.7071 4.9497]\n",
      " [1.4142 0.7071    nan 4.2426]\n",
      " [5.6569 4.9497 4.2426    nan]]\n",
      "Agent 0: Rm [0.71, 5.66], R_k\\m [0.71, 4.95] [|R(l,m)-R(u,k\\m)|, |R(u,m)-R(l,k\\m)|] 4.24, 4.95\n",
      "Agent 1: Rm [0.71, 4.95], R_k\\m [1.41, 5.66] [|R(l,m)-R(u,k\\m)|, |R(u,m)-R(l,k\\m)|] 4.95, 3.54\n",
      "Agent 2: Rm [0.71, 4.24], R_k\\m [0.71, 5.66] [|R(l,m)-R(u,k\\m)|, |R(u,m)-R(l,k\\m)|] 4.95, 3.54\n",
      "Agent 3: Rm [4.24, 5.66], R_k\\m [0.71, 1.41] [|R(l,m)-R(u,k\\m)|, |R(u,m)-R(l,k\\m)|] 2.83, 4.95\n"
     ]
    },
    {
     "data": {
      "text/plain": [
       "array([1., 1., 1., 1.])"
      ]
     },
     "execution_count": 5,
     "metadata": {},
     "output_type": "execute_result"
    }
   ],
   "source": [
    "weight_update_statistics(WL, fix=True)"
   ]
  },
  {
   "cell_type": "code",
   "execution_count": null,
   "id": "2513cdc5",
   "metadata": {},
   "outputs": [],
   "source": []
  }
 ],
 "metadata": {
  "kernelspec": {
   "display_name": "env_marlvr",
   "language": "python",
   "name": "env_marlvr"
  },
  "language_info": {
   "codemirror_mode": {
    "name": "ipython",
    "version": 3
   },
   "file_extension": ".py",
   "mimetype": "text/x-python",
   "name": "python",
   "nbconvert_exporter": "python",
   "pygments_lexer": "ipython3",
   "version": "3.8.10"
  }
 },
 "nbformat": 4,
 "nbformat_minor": 5
}
