{
 "cells": [
  {
   "cell_type": "code",
   "execution_count": 1,
   "id": "392e16e4-ab92-4a85-8bb0-dfc2e5ae7218",
   "metadata": {},
   "outputs": [
    {
     "ename": "ModuleNotFoundError",
     "evalue": "No module named 'utils'",
     "output_type": "error",
     "traceback": [
      "\u001b[0;31m---------------------------------------------------------------------------\u001b[0m",
      "\u001b[0;31mModuleNotFoundError\u001b[0m                       Traceback (most recent call last)",
      "\u001b[0;32m/tmp/ipykernel_625560/886554093.py\u001b[0m in \u001b[0;36m<module>\u001b[0;34m\u001b[0m\n\u001b[1;32m      1\u001b[0m \u001b[0;32mimport\u001b[0m \u001b[0mnumpy\u001b[0m \u001b[0;32mas\u001b[0m \u001b[0mnp\u001b[0m\u001b[0;34m\u001b[0m\u001b[0;34m\u001b[0m\u001b[0m\n\u001b[1;32m      2\u001b[0m \u001b[0;32mimport\u001b[0m \u001b[0mpickle\u001b[0m\u001b[0;34m\u001b[0m\u001b[0;34m\u001b[0m\u001b[0m\n\u001b[0;32m----> 3\u001b[0;31m \u001b[0;32mfrom\u001b[0m \u001b[0mutils\u001b[0m\u001b[0;34m.\u001b[0m\u001b[0mpartition\u001b[0m \u001b[0;32mimport\u001b[0m \u001b[0mweight_update_statistics\u001b[0m\u001b[0;34m\u001b[0m\u001b[0;34m\u001b[0m\u001b[0m\n\u001b[0m",
      "\u001b[0;31mModuleNotFoundError\u001b[0m: No module named 'utils'"
     ]
    }
   ],
   "source": [
    "import numpy as np\n",
    "import pickle\n",
    "from utils.partition import weight_update_statistics"
   ]
  },
  {
   "cell_type": "code",
   "execution_count": 3,
   "id": "fa667fa4-f111-4b6e-b10c-3bbbd51e3024",
   "metadata": {},
   "outputs": [],
   "source": [
    "with open('outputs/metrics_dict.pkl', 'rb') as handle:\n",
    "    metrics_past = pickle.load(handle)\n",
    "#print(metrics.keys())\n",
    "\n",
    "with open('outputs/metrics_dict2.pkl', 'rb') as handle:\n",
    "    metrics = pickle.load(handle)\n",
    "#print(metrics.keys())"
   ]
  },
  {
   "cell_type": "code",
   "execution_count": 4,
   "id": "179178ca-988e-49fb-91b6-8ba531357ddb",
   "metadata": {},
   "outputs": [
    {
     "name": "stdout",
     "output_type": "stream",
     "text": [
      "<class 'list'>\n"
     ]
    }
   ],
   "source": [
    "print(type(metrics_past))"
   ]
  },
  {
   "cell_type": "code",
   "execution_count": 5,
   "id": "b15f9185-2d16-413d-9e2e-224dce1bc48c",
   "metadata": {},
   "outputs": [
    {
     "data": {
      "text/plain": [
       "10"
      ]
     },
     "execution_count": 5,
     "metadata": {},
     "output_type": "execute_result"
    }
   ],
   "source": [
    "len(metrics_past)"
   ]
  },
  {
   "cell_type": "code",
   "execution_count": 6,
   "id": "ddf0d379-04f3-49c7-9ddb-95c12412f6b1",
   "metadata": {},
   "outputs": [
    {
     "name": "stdout",
     "output_type": "stream",
     "text": [
      "5\n"
     ]
    }
   ],
   "source": [
    "print(metrics_past[1][1]['cid'])"
   ]
  },
  {
   "cell_type": "code",
   "execution_count": 7,
   "id": "17123bb3-9d90-40d0-9a40-c6085bed591c",
   "metadata": {},
   "outputs": [
    {
     "name": "stdout",
     "output_type": "stream",
     "text": [
      "8\n"
     ]
    }
   ],
   "source": [
    "i = 0 # Agent number\n",
    "print(len(metrics_past[i][1]['parameters']))"
   ]
  },
  {
   "cell_type": "code",
   "execution_count": 8,
   "id": "6dc6ce1e-91b8-4b9f-b531-2c2c7178ab80",
   "metadata": {},
   "outputs": [
    {
     "name": "stdout",
     "output_type": "stream",
     "text": [
      "0 <class 'numpy.ndarray'> (64, 1, 5, 5)\n",
      "1 <class 'numpy.ndarray'> (64,)\n",
      "2 <class 'numpy.ndarray'> (64, 64, 5, 5)\n",
      "3 <class 'numpy.ndarray'> (64,)\n",
      "4 <class 'numpy.ndarray'> (128, 25600)\n",
      "5 <class 'numpy.ndarray'> (128,)\n",
      "6 <class 'numpy.ndarray'> (10, 128)\n",
      "7 <class 'numpy.ndarray'> (10,)\n"
     ]
    }
   ],
   "source": [
    "for j in range(len(metrics_past[i][1]['parameters'])):\n",
    "    print(j, type(metrics_past[i][1]['parameters'][j]), metrics_past[i][1]['parameters'][j].shape)"
   ]
  },
  {
   "cell_type": "code",
   "execution_count": 9,
   "id": "f072d230-ef6d-4c3c-a63a-0d243fd05413",
   "metadata": {},
   "outputs": [
    {
     "data": {
      "text/plain": [
       "array([1, 3, 2, 4])"
      ]
     },
     "execution_count": 9,
     "metadata": {},
     "output_type": "execute_result"
    }
   ],
   "source": [
    "test_arr = np.array([1,2,3,4])\n",
    "test_arr[[0,2,1,3]]"
   ]
  },
  {
   "cell_type": "code",
   "execution_count": 10,
   "id": "ebae5b59-bef4-48ab-96d3-eb84f2ef44c4",
   "metadata": {},
   "outputs": [],
   "source": [
    "WL = []\n",
    "client_order = []\n",
    "for i in range(len(metrics_past)):\n",
    "    WL.append(np.concatenate([x.flatten() for x in metrics_past[i][1]['parameters']]))\n",
    "    client_order.append(int(metrics_past[i][1]['cid']))\n",
    "    \n",
    "#all_params_agent_i = np.concatenate([x.flatten() for x in metrics[i][1]['parameters']])"
   ]
  },
  {
   "cell_type": "code",
   "execution_count": 11,
   "id": "b9da279c-91c8-45f4-bba6-c36d29e41c50",
   "metadata": {},
   "outputs": [
    {
     "name": "stdout",
     "output_type": "stream",
     "text": [
      "[8, 5, 3, 1, 2, 4, 7, 0, 6, 9]\n"
     ]
    }
   ],
   "source": [
    "print(client_order)"
   ]
  },
  {
   "cell_type": "code",
   "execution_count": 12,
   "id": "05cf70a7-ffc3-4875-85c9-45937ccd845d",
   "metadata": {},
   "outputs": [
    {
     "name": "stdout",
     "output_type": "stream",
     "text": [
      "[[nan  0.  0.  0.  0.  0.  0.  0.  0.  0.]\n",
      " [ 0. nan  0.  0.  0.  0.  0.  0.  0.  0.]\n",
      " [ 0.  0. nan  0.  0.  0.  0.  0.  0.  0.]\n",
      " [ 0.  0.  0. nan  0.  0.  0.  0.  0.  0.]\n",
      " [ 0.  0.  0.  0. nan  0.  0.  0.  0.  0.]\n",
      " [ 0.  0.  0.  0.  0. nan  0.  0.  0.  0.]\n",
      " [ 0.  0.  0.  0.  0.  0. nan  0.  0.  0.]\n",
      " [ 0.  0.  0.  0.  0.  0.  0. nan  0.  0.]\n",
      " [ 0.  0.  0.  0.  0.  0.  0.  0. nan  0.]\n",
      " [ 0.  0.  0.  0.  0.  0.  0.  0.  0. nan]]\n",
      "Agent 0: Rm [0.00, 0.00], R_k\\m [0.00, 0.00], [|R(l,m)-R(l,k\\m)|, |R(u,m)-R(u,k\\m)|] = 0.00, 0.00\n",
      "Agent 1: Rm [0.00, 0.00], R_k\\m [0.00, 0.00], [|R(l,m)-R(l,k\\m)|, |R(u,m)-R(u,k\\m)|] = 0.00, 0.00\n",
      "Agent 2: Rm [0.00, 0.00], R_k\\m [0.00, 0.00], [|R(l,m)-R(l,k\\m)|, |R(u,m)-R(u,k\\m)|] = 0.00, 0.00\n",
      "Agent 3: Rm [0.00, 0.00], R_k\\m [0.00, 0.00], [|R(l,m)-R(l,k\\m)|, |R(u,m)-R(u,k\\m)|] = 0.00, 0.00\n",
      "Agent 4: Rm [0.00, 0.00], R_k\\m [0.00, 0.00], [|R(l,m)-R(l,k\\m)|, |R(u,m)-R(u,k\\m)|] = 0.00, 0.00\n",
      "Agent 5: Rm [0.00, 0.00], R_k\\m [0.00, 0.00], [|R(l,m)-R(l,k\\m)|, |R(u,m)-R(u,k\\m)|] = 0.00, 0.00\n",
      "Agent 6: Rm [0.00, 0.00], R_k\\m [0.00, 0.00], [|R(l,m)-R(l,k\\m)|, |R(u,m)-R(u,k\\m)|] = 0.00, 0.00\n",
      "Agent 7: Rm [0.00, 0.00], R_k\\m [0.00, 0.00], [|R(l,m)-R(l,k\\m)|, |R(u,m)-R(u,k\\m)|] = 0.00, 0.00\n",
      "Agent 8: Rm [0.00, 0.00], R_k\\m [0.00, 0.00], [|R(l,m)-R(l,k\\m)|, |R(u,m)-R(u,k\\m)|] = 0.00, 0.00\n",
      "Agent 9: Rm [0.00, 0.00], R_k\\m [0.00, 0.00], [|R(l,m)-R(l,k\\m)|, |R(u,m)-R(u,k\\m)|] = 0.00, 0.00\n",
      "[0. 0. 0. 0. 0. 0. 0. 0. 0. 0.]\n"
     ]
    }
   ],
   "source": [
    "mal_unordered_past = weight_update_statistics(WL, debug=True)\n",
    "mal_agents_past = mal_unordered_past[client_order]\n",
    "print(mal_agents_past)"
   ]
  },
  {
   "cell_type": "markdown",
   "id": "af75c454-39be-4d6c-ac39-3ad78389e530",
   "metadata": {},
   "source": [
    "* Observation: All of the parameters are nan\n",
    "* Hypothesis: Maybe it's just the first round??\n",
    "* Experiment: Let it run for 2 rounds so it saves the 2nd dict\n",
    "* Result: Hpyothesis was false. I waited for 2 rounds to complete and yet all params were false\n",
    "* Hypothesis 2: There's a problem with pickle\n",
    "* Experiment: Print dict directly to console\n",
    "* Result: First and second round printed all rounds (there's a weird error tho..).\n",
    "* Hypothesis 3: there's a problem with the get_parameters(self.net) function\n",
    "* Experiment: Changed to self.get_parameters(None)\n",
    "* Result: All nan again. but got to read error message\n",
    "* Hypothesis 4: Weird gpu magic...\n",
    "* Experiment: Changed GPU to #2\n",
    "* Result: After 1 round.. now arrays have values!"
   ]
  },
  {
   "cell_type": "markdown",
   "id": "73ac7352-e8b8-47ae-ae7d-6554c0320f55",
   "metadata": {},
   "source": [
    "## Metrics"
   ]
  },
  {
   "cell_type": "code",
   "execution_count": 14,
   "id": "c7e50aa7-0a66-46c4-b872-3168433bbad7",
   "metadata": {},
   "outputs": [
    {
     "name": "stdout",
     "output_type": "stream",
     "text": [
      "<class 'dict'>\n"
     ]
    }
   ],
   "source": [
    "print(type(metrics))\n",
    "#print(metrics[2])"
   ]
  },
  {
   "cell_type": "code",
   "execution_count": 15,
   "id": "a2d9ebe6-1392-4943-a064-1f4ab68ea422",
   "metadata": {},
   "outputs": [
    {
     "name": "stdout",
     "output_type": "stream",
     "text": [
      "dict_keys(['5', '9', '0', '4', '1', '3', '2', '6', '8', '7'])\n"
     ]
    }
   ],
   "source": [
    "print(metrics.keys())"
   ]
  },
  {
   "cell_type": "code",
   "execution_count": 16,
   "id": "947f20ff-310e-4f51-9ab0-d781c3055c1d",
   "metadata": {},
   "outputs": [
    {
     "name": "stdout",
     "output_type": "stream",
     "text": [
      "<class 'list'>\n",
      "<class 'int'>\n"
     ]
    }
   ],
   "source": [
    "print(type(metrics['1'][0]))\n",
    "print(type(metrics['1'][1]))"
   ]
  },
  {
   "cell_type": "code",
   "execution_count": 31,
   "id": "89e4d73a-6548-493f-b2f7-26cf740b1004",
   "metadata": {},
   "outputs": [
    {
     "data": {
      "text/plain": [
       "85"
      ]
     },
     "execution_count": 31,
     "metadata": {},
     "output_type": "execute_result"
    }
   ],
   "source": [
    "metrics['1'][1]"
   ]
  },
  {
   "cell_type": "code",
   "execution_count": 30,
   "id": "79a5caf6-e597-4a78-8559-8644ad81b541",
   "metadata": {},
   "outputs": [
    {
     "name": "stdout",
     "output_type": "stream",
     "text": [
      "8\n"
     ]
    }
   ],
   "source": [
    "print(len(metrics['1'][0]))"
   ]
  },
  {
   "cell_type": "code",
   "execution_count": 27,
   "id": "55be8c6a-b78e-469c-8dc5-8d87c789199b",
   "metadata": {},
   "outputs": [],
   "source": [
    "debug = False"
   ]
  },
  {
   "cell_type": "code",
   "execution_count": 28,
   "id": "59882e00-fcee-4ab2-8a8b-219c663e8ea2",
   "metadata": {},
   "outputs": [],
   "source": [
    "\n",
    "idx_order = [int(x) for x in metrics.keys()]\n",
    "if debug: print(idx_order)\n",
    "    \n",
    "WL = []\n",
    "for key in metrics.keys():\n",
    "    if debug: print(f\"{key}: Layers {len(metrics[key][0])}\")\n",
    "    params_cli = np.concatenate([x.flatten() for x in metrics[key][0]])\n",
    "    \n",
    "    if debug:\n",
    "        for j in range(len(metrics[key][0])):\n",
    "            print(f\"\\t{j}: {metrics[key][0][j].shape}\")\n",
    "    \n",
    "        print(\"Total params\", params_cli.shape)\n",
    "    WL.append(params_cli)\n",
    "    \n",
    "mal_unordered = weight_update_statistics(WL, kappa =0.7, debug=debug)\n",
    "mal_agents = mal_unordered[client_order]\n",
    "\n",
    "if debug: print(f\"Unordered: {mal_unordered} \\nOrdered: {mal_agents}\")\n",
    "    "
   ]
  },
  {
   "cell_type": "code",
   "execution_count": 25,
   "id": "66935902-3aea-409f-9c27-b76102b4c1b4",
   "metadata": {},
   "outputs": [
    {
     "data": {
      "text/plain": [
       "3382346"
      ]
     },
     "execution_count": 25,
     "metadata": {},
     "output_type": "execute_result"
    }
   ],
   "source": [
    "(64*1*5*5)+(64)+(64*64*5*5)+(64)+(128*25600)+(128)+(128*10)+(10)"
   ]
  }
 ],
 "metadata": {
  "kernelspec": {
   "display_name": "Python 3 (ipykernel)",
   "language": "python",
   "name": "python3"
  },
  "language_info": {
   "codemirror_mode": {
    "name": "ipython",
    "version": 3
   },
   "file_extension": ".py",
   "mimetype": "text/x-python",
   "name": "python",
   "nbconvert_exporter": "python",
   "pygments_lexer": "ipython3",
   "version": "3.8.10"
  }
 },
 "nbformat": 4,
 "nbformat_minor": 5
}
