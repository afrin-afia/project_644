{
 "cells": [
  {
   "cell_type": "code",
   "execution_count": 32,
   "id": "bee90ad2-e159-455e-937d-980e16305488",
   "metadata": {},
   "outputs": [],
   "source": [
    "import numpy as np\n",
    "import pandas as pd"
   ]
  },
  {
   "cell_type": "code",
   "execution_count": 40,
   "id": "8817809c-a496-4754-ab7e-b82fbcdfa2e6",
   "metadata": {},
   "outputs": [
    {
     "name": "stdout",
     "output_type": "stream",
     "text": [
      "<class 'pandas.core.frame.DataFrame'>\n",
      "Int64Index: 630 entries, 0 to 109\n",
      "Data columns (total 15 columns):\n",
      " #   Column     Non-Null Count  Dtype  \n",
      "---  ------     --------------  -----  \n",
      " 0   R          630 non-null    int64  \n",
      " 1   D          630 non-null    float64\n",
      " 2   kappa      630 non-null    float64\n",
      " 3   accu       630 non-null    float64\n",
      " 4   TN         630 non-null    int64  \n",
      " 5   FN         630 non-null    int64  \n",
      " 6   TP         630 non-null    int64  \n",
      " 7   FP         630 non-null    int64  \n",
      " 8   Recall     585 non-null    float64\n",
      " 9   Precision  399 non-null    float64\n",
      " 10  TPR        585 non-null    float64\n",
      " 11  FPR        630 non-null    float64\n",
      " 12  F1         593 non-null    float64\n",
      " 13  case       630 non-null    object \n",
      " 14  distance   630 non-null    object \n",
      "dtypes: float64(8), int64(5), object(2)\n",
      "memory usage: 78.8+ KB\n"
     ]
    }
   ],
   "source": [
    "result_dir = \"/home/salesort/Documents/644_CMPUT/res_analysis\"\n",
    "cases = [\"manyR\", \"R1manyD\"]\n",
    "cosines = [False, True]\n",
    "suffix_str = \"\"\n",
    "l_df = []\n",
    "for case in cases:\n",
    "    for cosine in cosines:\n",
    "        cosine_str = \"_cosine\" if cosine else \"\"\n",
    "        result_file = f\"{result_dir}/df_{case}{cosine_str}{suffix_str}.csv\"\n",
    "        df_load = pd.read_csv(result_file)\n",
    "        df_load[\"case\"] = case\n",
    "        df_load[\"distance\"] = \"cosine\" if cosine else \"Euclidean\"\n",
    "        l_df.append(df_load)\n",
    "\n",
    "df_result = pd.concat(l_df)\n",
    "df_result.info()"
   ]
  },
  {
   "cell_type": "code",
   "execution_count": 46,
   "id": "dd92ca28-d2f3-4f47-9c9e-b8819c2f881c",
   "metadata": {},
   "outputs": [
    {
     "name": "stdout",
     "output_type": "stream",
     "text": [
      "      case   distance  kappa_min  kappa_max\n",
      "0  R1manyD  Euclidean       3.00      20.00\n",
      "1  R1manyD     cosine       0.06       0.10\n",
      "2    manyR  Euclidean       3.00      10.00\n",
      "3    manyR     cosine       0.04       0.06\n"
     ]
    }
   ],
   "source": [
    "gdf_result =  df_result[df_result[\"F1\"] >= 0.9].groupby(by = [\"case\", \"distance\", \"D\", \"R\"]).agg(kappa_min = (\"kappa\", \"min\"), kappa_max = (\"kappa\", \"max\")).reset_index().groupby(by = [\"case\", \"distance\"]).agg(kappa_min = (\"kappa_min\", \"max\"), kappa_max=(\"kappa_max\", \"min\")).reset_index()\n",
    "print(gdf_result.head(200))"
   ]
  },
  {
   "cell_type": "code",
   "execution_count": null,
   "id": "1a702942-0220-4578-8bb0-dfc4780a2095",
   "metadata": {},
   "outputs": [
    {
     "ename": "NameError",
     "evalue": "name 'case' is not defined",
     "output_type": "error",
     "traceback": [
      "\u001b[0;31m---------------------------------------------------------------------------\u001b[0m",
      "\u001b[0;31mNameError\u001b[0m                                 Traceback (most recent call last)",
      "Cell \u001b[0;32mIn [3], line 18\u001b[0m\n\u001b[1;32m     14\u001b[0m     cosine_str \u001b[38;5;241m=\u001b[39m \u001b[38;5;124m'\u001b[39m\u001b[38;5;124m'\u001b[39m\n\u001b[1;32m     16\u001b[0m result_dir \u001b[38;5;241m=\u001b[39m \u001b[38;5;124m\"\u001b[39m\u001b[38;5;124m/home/salesort/Documents/644_CMPUT/res_analysis\u001b[39m\u001b[38;5;124m\"\u001b[39m\n\u001b[0;32m---> 18\u001b[0m \u001b[38;5;28;01mif\u001b[39;00m \u001b[43mcase\u001b[49m \u001b[38;5;241m==\u001b[39m \u001b[38;5;124m\"\u001b[39m\u001b[38;5;124mmanyR\u001b[39m\u001b[38;5;124m\"\u001b[39m:\n\u001b[1;32m     19\u001b[0m     title \u001b[38;5;241m=\u001b[39m \u001b[38;5;124m\"\u001b[39m\u001b[38;5;124mMultiple mislabeled samples, balanced data\u001b[39m\u001b[38;5;124m\"\u001b[39m\n\u001b[1;32m     20\u001b[0m     var_label \u001b[38;5;241m=\u001b[39m var \u001b[38;5;241m=\u001b[39m \u001b[38;5;124m\"\u001b[39m\u001b[38;5;124mR\u001b[39m\u001b[38;5;124m\"\u001b[39m\n",
      "\u001b[0;31mNameError\u001b[0m: name 'case' is not defined"
     ]
    }
   ],
   "source": [
    "\n",
    "\n",
    "for case in cases:\n",
    "    for cosine in cosines:\n",
    "\n",
    "#Rs = [0, 1, 3, 10, 30, 100, 300, 1_000, 3_000]\n",
    "SERVER_ROUNDS = 20\n",
    "suffix_str = \"\"\n",
    "if cosine:\n",
    "    # Kappas for cosine similarity\n",
    "    # kappas = np.round(np.concatenate((np.arange(0,0.3, 0.02), np.arange(0.3, 1, 0.1))),3)   \n",
    "    cosine_str = '_cosine'\n",
    "else:\n",
    "    # Kappas for Euclidean distance\n",
    "    # kappas = np.round(np.concatenate((np.arange(0, 1, 0.2), np.arange(1,10,1), np.arange(10,55,5))),3)\n",
    "    cosine_str = ''\n",
    "\n",
    "\n",
    "\n",
    "if case == \"manyR\":\n",
    "    title = \"Multiple mislabeled samples, balanced data\"\n",
    "    var_label = var = \"R\"\n",
    "elif case == \"R0manyD\":\n",
    "    title = \"No mislabeled samples, unbalanced data\"\n",
    "    var = \"D\"\n",
    "elif case == \"R1manyD\":\n",
    "    title = \"One mislabeled sample, unbalanced data\"\n",
    "    var = \"D\"\n",
    "    var_label = \"Dominant Proportion\"\n",
    "    \n",
    "if cosine:\n",
    "    title += \" (Cosine dissimilarity)\"\n",
    "else:\n",
    "    title += \" (Euclidean distance)\"\n",
    "\n",
    "df_handle = f\"df_{case}{cosine_str}{suffix_str}.csv\"\n",
    "print(df_handle)\n",
    "\n",
    "list_df = []"
   ]
  },
  {
   "cell_type": "code",
   "execution_count": null,
   "id": "7e149c0c-5c4d-4623-80b3-c533aa003430",
   "metadata": {},
   "outputs": [],
   "source": []
  }
 ],
 "metadata": {
  "kernelspec": {
   "display_name": "Python 3 (ipykernel)",
   "language": "python",
   "name": "python3"
  },
  "language_info": {
   "codemirror_mode": {
    "name": "ipython",
    "version": 3
   },
   "file_extension": ".py",
   "mimetype": "text/x-python",
   "name": "python",
   "nbconvert_exporter": "python",
   "pygments_lexer": "ipython3",
   "version": "3.8.10"
  }
 },
 "nbformat": 4,
 "nbformat_minor": 5
}
